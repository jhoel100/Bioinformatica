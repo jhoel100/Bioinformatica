{
 "cells": [
  {
   "cell_type": "code",
   "execution_count": 1,
   "id": "b29d0240",
   "metadata": {},
   "outputs": [],
   "source": [
    "import matplotlib.pyplot as plt"
   ]
  },
  {
   "cell_type": "code",
   "execution_count": 2,
   "id": "ab0e279d",
   "metadata": {},
   "outputs": [],
   "source": [
    "file = open('seq1.txt', 'r')\n",
    "dna = file.read()"
   ]
  },
  {
   "cell_type": "code",
   "execution_count": 3,
   "id": "4108ac68",
   "metadata": {},
   "outputs": [
    {
     "name": "stdout",
     "output_type": "stream",
     "text": [
      "Cadena de ADN:  AGCTTTTCATTCTGACTGCAACGGGCAATATGTCTCTGTGTGGATTAAAAAAAGAGTGTCTGATAGCAGCTTCTGAACTG\n",
      "GTTACCTGCCGTGAGTAAATTAAAATTTTATTGACTTAGGTCACTAAATACTTTAACCAATATAGGCATAGCGCACAGAC\n",
      "AGATAAAAATTACAGAGTACACAACATCCATGAAACGCATTAGCACCACCATTACCACCACCATCACCATTACCACAGGT\n",
      "AACGGTGCGGGCTGACGCGTACAGGAAACACAGAAAAAAGCCCGCACCTGACAGTGCGGGCTTTTTTTTTCGACCAAAGG\n",
      "TAACGAGGTAACAACCATGCGAGTGTTGAAGTTCGGCGGTACATCAGTGGCAAATGCAGAACGTTTTCTGCGTGTTGCCG\n",
      "ATATTCTGGAAAGCAATGCCAGGCAGGGGCAGGTGGCCACCGTCCTCTCTGCCCCCGCCAAAATCACCAACCACCTGGTG\n",
      "GCGATGATTGAAAAAACCATTAGCGGCCAGGATGCTTTACCCAATATCAGCGATGCCGAACGTATTTTTGCCGAACTTTT\n",
      "GACGGGACTCGCCGCCGCCCAGCCGGGGTTCCCGCTGGCGCAATTGAAAACTTTCGTCGATCAGGAATTTGCCCAAATAA\n",
      "AACATGTCCTGCATGGCATTAGTTTGTTGGGGCAGTGCCCGGATAGCATCAACGCTGCGCTGATTTGCCGTGGCGAGAAA\n",
      "ATGTCGATCGCCATTATGGCCGGCGTATTAGAAGCGCGCGGTCACAACGTTACTGTTATCGATCCGGTCGAAAAACTGCT\n",
      "GGCAGTGGGGCATTACCTCGAATCTACCGTCGATATTGCTGAGTCCACCCGCCGTATTGCGGCAAGCCGCATTCCGGCTG\n",
      "ATCACATGGTGCTGATGGCAGGTTTCACCGCCGGTAATGAAAAAGGCGAACTGGTGGTGCTTGGACGCAACGGTTCCGAC\n",
      "TACTCTGCTGCGGTGCTGGCTGCCTGTTTAC\n"
     ]
    }
   ],
   "source": [
    "# Cadena original\n",
    "print(\"Cadena de ADN: \", dna)\n",
    "n=len(dna)"
   ]
  },
  {
   "cell_type": "code",
   "execution_count": 4,
   "id": "65bb2b31",
   "metadata": {},
   "outputs": [],
   "source": [
    "letter=[]\n",
    "porcnt=[]\n",
    "count=[]"
   ]
  },
  {
   "cell_type": "code",
   "execution_count": 5,
   "id": "2aa473df",
   "metadata": {},
   "outputs": [
    {
     "name": "stdout",
     "output_type": "stream",
     "text": [
      "Conteo de Adenina:  257\n",
      "Porcentaje de Adenina:  25.623130608175472\n"
     ]
    }
   ],
   "source": [
    "letter.append('A')\n",
    "count.append(dna.count(\"A\"))\n",
    "porcnt.append(dna.count(\"A\")*100/n)\n",
    "print(\"Conteo de Adenina: \", dna.count(\"A\"))\n",
    "print(\"Porcentaje de Adenina: \", dna.count(\"A\")*100/n)"
   ]
  },
  {
   "cell_type": "code",
   "execution_count": 6,
   "id": "92a07064",
   "metadata": {},
   "outputs": [
    {
     "name": "stdout",
     "output_type": "stream",
     "text": [
      "Conteo de Citocina:  251\n",
      "Porcentaje de Citocina:  25.02492522432702\n"
     ]
    }
   ],
   "source": [
    "letter.append('C')\n",
    "count.append(dna.count(\"C\"))\n",
    "porcnt.append(dna.count(\"C\")*100/n)\n",
    "print(\"Conteo de Citocina: \", dna.count(\"C\"))\n",
    "print(\"Porcentaje de Citocina: \", dna.count(\"C\")*100/n)"
   ]
  },
  {
   "cell_type": "code",
   "execution_count": 7,
   "id": "19c809ce",
   "metadata": {},
   "outputs": [
    {
     "name": "stdout",
     "output_type": "stream",
     "text": [
      "Conteo de Guanina:  250\n",
      "Porcentaje de Guanina:  24.92522432701894\n"
     ]
    }
   ],
   "source": [
    "letter.append('G')\n",
    "count.append(dna.count(\"G\"))\n",
    "porcnt.append(dna.count(\"C\")*100/n)\n",
    "print(\"Conteo de Guanina: \", dna.count(\"G\"))\n",
    "print(\"Porcentaje de Guanina: \", dna.count(\"G\")*100/n)"
   ]
  },
  {
   "cell_type": "code",
   "execution_count": 8,
   "id": "d0249949",
   "metadata": {},
   "outputs": [
    {
     "name": "stdout",
     "output_type": "stream",
     "text": [
      "Conteo de Tiamina:  233\n",
      "Porcentaje de Tiamina:  23.230309072781655\n"
     ]
    }
   ],
   "source": [
    "letter.append('T')\n",
    "count.append(dna.count(\"T\"))\n",
    "porcnt.append(dna.count(\"C\")*100/n)\n",
    "print(\"Conteo de Tiamina: \", dna.count(\"T\"))\n",
    "print(\"Porcentaje de Tiamina: \", dna.count(\"T\")*100/n)"
   ]
  },
  {
   "cell_type": "code",
   "execution_count": 9,
   "id": "c61f8262",
   "metadata": {},
   "outputs": [
    {
     "data": {
      "image/png": "[encoded data removed]",
      "text/plain": [
       "<Figure size 432x288 with 1 Axes>"
      ]
     },
     "metadata": {
      "needs_background": "light"
     },
     "output_type": "display_data"
    }
   ],
   "source": [
    "#CONTEO DE ELEMENTOS\n",
    "bars = plt.bar(letter, count)\n",
    "bars[0].set_color('green')\n",
    "bars[1].set_color('red')\n",
    "bars[2].set_color('blue')\n",
    "bars[3].set_color('yellow')\n",
    "plt.show()"
   ]
  },
  {
   "cell_type": "code",
   "execution_count": 10,
   "id": "97599849",
   "metadata": {},
   "outputs": [
    {
     "data": {
      "image/png": "[encoded data removed]",
      "text/plain": [
       "<Figure size 432x288 with 1 Axes>"
      ]
     },
     "metadata": {
      "needs_background": "light"
     },
     "output_type": "display_data"
    }
   ],
   "source": [
    "#PORCENTAJE DE ELEMENTOS\n",
    "bars = plt.bar(letter, porcnt)\n",
    "bars[0].set_color('green')\n",
    "bars[1].set_color('red')\n",
    "bars[2].set_color('blue')\n",
    "bars[3].set_color('yellow')\n",
    "plt.show()"
   ]
  },
  {
   "cell_type": "code",
   "execution_count": 11,
   "id": "12ecd023",
   "metadata": {},
   "outputs": [
    {
     "name": "stdout",
     "output_type": "stream",
     "text": [
      "Conteo de GC Seguido:  83\n"
     ]
    }
   ],
   "source": [
    "print(\"Conteo de GC Seguido: \", dna.count(\"GC\"))"
   ]
  },
  {
   "cell_type": "code",
   "execution_count": null,
   "id": "af37a0c3",
   "metadata": {},
   "outputs": [],
   "source": []
  }
 ],
 "metadata": {
  "kernelspec": {
   "display_name": "Python 3",
   "language": "python",
   "name": "python3"
  },
  "language_info": {
   "codemirror_mode": {
    "name": "ipython",
    "version": 3
   },
   "file_extension": ".py",
   "mimetype": "text/x-python",
   "name": "python",
   "nbconvert_exporter": "python",
   "pygments_lexer": "ipython3",
   "version": "3.8.8"
  }
 },
 "nbformat": 4,
 "nbformat_minor": 5
}
